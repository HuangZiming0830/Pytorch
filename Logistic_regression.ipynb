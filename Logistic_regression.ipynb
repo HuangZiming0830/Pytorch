{
 "cells": [
  {
   "cell_type": "code",
   "execution_count": 1,
   "metadata": {},
   "outputs": [],
   "source": [
    "import torch\n",
    "import torch.nn as nn\n",
    "import numpy as np"
   ]
  },
  {
   "cell_type": "code",
   "execution_count": 4,
   "metadata": {},
   "outputs": [],
   "source": [
    "data = np.loadtxt(\"german.data-numeric\")"
   ]
  },
  {
   "cell_type": "code",
   "execution_count": 5,
   "metadata": {},
   "outputs": [],
   "source": [
    "n,l = data.shape\n",
    "for j in range(l-1):\n",
    "    meanVal = np.mean(data[:,j])\n",
    "    stdVal = np.std(data[:,j])\n",
    "    data[:,j] = (data[:,j] - meanVal)/stdVal"
   ]
  },
  {
   "cell_type": "code",
   "execution_count": 6,
   "metadata": {},
   "outputs": [],
   "source": [
    "np.random.shuffle(data)"
   ]
  },
  {
   "cell_type": "code",
   "execution_count": 20,
   "metadata": {},
   "outputs": [],
   "source": [
    "train_data = data[:900,:l-1]\n",
    "train_lab = data[:900,l-1]-1\n",
    "test_data = data[900:,:l-1]\n",
    "test_lab = data[900:,l-1]-1"
   ]
  },
  {
   "cell_type": "code",
   "execution_count": 21,
   "metadata": {},
   "outputs": [],
   "source": [
    "class LR(nn.Module):\n",
    "    def __init__(self):\n",
    "        super(LR,self).__init__()\n",
    "        self.fc = nn.Linear(24,2)\n",
    "        \n",
    "    def forward(self,x):\n",
    "        out = self.fc(x)\n",
    "        out = torch.sigmoid(out)\n",
    "        return out"
   ]
  },
  {
   "cell_type": "code",
   "execution_count": 22,
   "metadata": {},
   "outputs": [],
   "source": [
    "def test(pred,lab):\n",
    "    t = pred.max(-1)[1]==lab\n",
    "    return torch.mean(t.float())"
   ]
  },
  {
   "cell_type": "code",
   "execution_count": 23,
   "metadata": {},
   "outputs": [],
   "source": [
    "net = LR()\n",
    "criterion = nn.CrossEntropyLoss()\n",
    "optm = torch.optim.Adam(net.parameters())\n",
    "epochs = 1000"
   ]
  },
  {
   "cell_type": "code",
   "execution_count": 24,
   "metadata": {},
   "outputs": [
    {
     "name": "stdout",
     "output_type": "stream",
     "text": [
      "Epoch:100, Loss:0.6461,Accuracy:0.70\n",
      "Epoch:200, Loss:0.6159,Accuracy:0.73\n",
      "Epoch:300, Loss:0.5978,Accuracy:0.73\n",
      "Epoch:400, Loss:0.5854,Accuracy:0.73\n",
      "Epoch:500, Loss:0.5762,Accuracy:0.74\n",
      "Epoch:600, Loss:0.5690,Accuracy:0.76\n",
      "Epoch:700, Loss:0.5631,Accuracy:0.76\n",
      "Epoch:800, Loss:0.5582,Accuracy:0.76\n",
      "Epoch:900, Loss:0.5540,Accuracy:0.75\n",
      "Epoch:1000, Loss:0.5504,Accuracy:0.75\n"
     ]
    }
   ],
   "source": [
    "for i in range(epochs):\n",
    "    net.train()\n",
    "    x = torch.from_numpy(train_data).float()\n",
    "    y = torch.from_numpy(train_lab).long()\n",
    "    y_hat = net(x)\n",
    "    loss = criterion(y_hat,y)\n",
    "    optm.zero_grad()\n",
    "    loss.backward()\n",
    "    optm.step()\n",
    "    \n",
    "    if (i+1)%100 ==0:\n",
    "        net.eval()\n",
    "        test_in = torch.from_numpy(test_data).float()\n",
    "        test_l = torch.from_numpy(test_lab).long()\n",
    "        test_out = net(test_in)\n",
    "        \n",
    "        accu = test(test_out,test_l)\n",
    "        print(\"Epoch:{}, Loss:{:.4f},Accuracy:{:.2f}\".format(i+1,loss.item(),accu))"
   ]
  }
 ],
 "metadata": {
  "kernelspec": {
   "display_name": "Python 3",
   "language": "python",
   "name": "python3"
  },
  "language_info": {
   "codemirror_mode": {
    "name": "ipython",
    "version": 3
   },
   "file_extension": ".py",
   "mimetype": "text/x-python",
   "name": "python",
   "nbconvert_exporter": "python",
   "pygments_lexer": "ipython3",
   "version": "3.7.6"
  }
 },
 "nbformat": 4,
 "nbformat_minor": 4
}
