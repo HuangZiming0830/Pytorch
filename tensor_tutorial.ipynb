{
 "cells": [
  {
   "cell_type": "code",
   "execution_count": 1,
   "metadata": {},
   "outputs": [
    {
     "name": "stdout",
     "output_type": "stream",
     "text": [
      "Collecting package metadata (current_repodata.json): ...working... done\n",
      "Note: you may need to restart the kernel to use updated packages.\n"
     ]
    },
    {
     "name": "stderr",
     "output_type": "stream",
     "text": [
      "WARNING conda.gateways.disk.delete:unlink_or_rename_to_trash(140): Could not remove or rename C:\\Users\\17374\\Anaconda3\\pkgs\\libclang-9.0.1-default_hf44288c_0.tar.bz2.  Please remove this file manually (you may need to reboot to free file handles)\n"
     ]
    },
    {
     "name": "stdout",
     "output_type": "stream",
     "text": [
      "\n",
      "Solving environment: ...working... done\n",
      "\n",
      "## Package Plan ##\n",
      "\n",
      "  environment location: C:\\Users\\17374\\Anaconda3\\envs\\pytorch_gpu\n",
      "\n",
      "  added / updated specs:\n",
      "    - matplotlib\n",
      "\n",
      "\n",
      "The following packages will be downloaded:\n",
      "\n",
      "    package                    |            build\n",
      "    ---------------------------|-----------------\n",
      "    cycler-0.10.0              |             py_2           9 KB  https://mirrors.tuna.tsinghua.edu.cn/anaconda/cloud/conda-forge\n",
      "    icu-64.2                   |       he025d50_1        14.1 MB  https://mirrors.tuna.tsinghua.edu.cn/anaconda/cloud/conda-forge\n",
      "    kiwisolver-1.1.0           |   py37he980bc4_0          61 KB  https://mirrors.tuna.tsinghua.edu.cn/anaconda/cloud/conda-forge\n",
      "    libclang-9.0.1             |default_hf44288c_0        20.8 MB  https://mirrors.tuna.tsinghua.edu.cn/anaconda/cloud/conda-forge\n",
      "    matplotlib-3.2.0           |                1           6 KB  https://mirrors.tuna.tsinghua.edu.cn/anaconda/cloud/conda-forge\n",
      "    matplotlib-base-3.2.0      |   py37h2981e6d_1         7.1 MB  https://mirrors.tuna.tsinghua.edu.cn/anaconda/cloud/conda-forge\n",
      "    pyparsing-2.4.6            |             py_0          59 KB  https://mirrors.tuna.tsinghua.edu.cn/anaconda/cloud/conda-forge\n",
      "    ------------------------------------------------------------\n",
      "                                           Total:        42.1 MB\n",
      "\n",
      "The following NEW packages will be INSTALLED:\n",
      "\n",
      "  cycler             anaconda/cloud/conda-forge/noarch::cycler-0.10.0-py_2\n",
      "  icu                anaconda/cloud/conda-forge/win-64::icu-64.2-he025d50_1\n",
      "  kiwisolver         anaconda/cloud/conda-forge/win-64::kiwisolver-1.1.0-py37he980bc4_0\n",
      "  libclang           anaconda/cloud/conda-forge/win-64::libclang-9.0.1-default_hf44288c_0\n",
      "  matplotlib         anaconda/cloud/conda-forge/win-64::matplotlib-3.2.0-1\n",
      "  matplotlib-base    anaconda/cloud/conda-forge/win-64::matplotlib-base-3.2.0-py37h2981e6d_1\n",
      "  pyparsing          anaconda/cloud/conda-forge/noarch::pyparsing-2.4.6-py_0\n",
      "  pyqt               anaconda/cloud/conda-forge/win-64::pyqt-5.12.3-py37h6538335_1\n",
      "  qt                 anaconda/cloud/conda-forge/win-64::qt-5.12.5-h7ef1ec2_0\n",
      "\n",
      "\n",
      "\n",
      "Downloading and Extracting Packages\n",
      "\n",
      "libclang-9.0.1       | 20.8 MB   |            |   0% \n",
      "libclang-9.0.1       | 20.8 MB   |            |   0% \n",
      "libclang-9.0.1       | 20.8 MB   |            |   0% \n",
      "libclang-9.0.1       | 20.8 MB   |            |   1% \n",
      "libclang-9.0.1       | 20.8 MB   |            |   1% \n",
      "libclang-9.0.1       | 20.8 MB   | 1          |   1% \n",
      "libclang-9.0.1       | 20.8 MB   | 1          |   1% \n",
      "libclang-9.0.1       | 20.8 MB   | 1          |   2% \n",
      "libclang-9.0.1       | 20.8 MB   | 2          |   2% \n",
      "libclang-9.0.1       | 20.8 MB   | 2          |   2% \n",
      "libclang-9.0.1       | 20.8 MB   | 2          |   3% \n",
      "libclang-9.0.1       | 20.8 MB   | 2          |   3% \n",
      "libclang-9.0.1       | 20.8 MB   | 3          |   3% \n",
      "libclang-9.0.1       | 20.8 MB   | 3          |   4% \n",
      "libclang-9.0.1       | 20.8 MB   | 3          |   4% \n",
      "libclang-9.0.1       | 20.8 MB   | 4          |   4% \n",
      "libclang-9.0.1       | 20.8 MB   | 4          |   5% \n",
      "libclang-9.0.1       | 20.8 MB   | 4          |   5% \n",
      "libclang-9.0.1       | 20.8 MB   | 5          |   5% \n",
      "libclang-9.0.1       | 20.8 MB   | 5          |   6% \n",
      "libclang-9.0.1       | 20.8 MB   | 5          |   6% \n",
      "libclang-9.0.1       | 20.8 MB   | 6          |   6% \n",
      "libclang-9.0.1       | 20.8 MB   | 6          |   6% \n",
      "libclang-9.0.1       | 20.8 MB   | 6          |   7% \n",
      "libclang-9.0.1       | 20.8 MB   | 6          |   7% \n",
      "libclang-9.0.1       | 20.8 MB   | 7          |   7% \n",
      "libclang-9.0.1       | 20.8 MB   | 7          |   8% \n",
      "libclang-9.0.1       | 20.8 MB   | 7          |   8% \n",
      "libclang-9.0.1       | 20.8 MB   | 8          |   8% \n",
      "libclang-9.0.1       | 20.8 MB   | 8          |   9% \n",
      "libclang-9.0.1       | 20.8 MB   | 8          |   9% \n",
      "libclang-9.0.1       | 20.8 MB   | 9          |   9% \n",
      "libclang-9.0.1       | 20.8 MB   | 9          |  10% \n",
      "libclang-9.0.1       | 20.8 MB   | 9          |  10% \n",
      "libclang-9.0.1       | 20.8 MB   | #          |  10% \n",
      "libclang-9.0.1       | 20.8 MB   | #          |  11% \n",
      "libclang-9.0.1       | 20.8 MB   | #1         |  11% \n",
      "libclang-9.0.1       | 20.8 MB   | #1         |  12% \n",
      "libclang-9.0.1       | 20.8 MB   | #1         |  12% \n",
      "libclang-9.0.1       | 20.8 MB   | #2         |  12% \n",
      "libclang-9.0.1       | 20.8 MB   | #2         |  13% \n",
      "libclang-9.0.1       | 20.8 MB   | #2         |  13% \n",
      "libclang-9.0.1       | 20.8 MB   | #3         |  13% \n",
      "libclang-9.0.1       | 20.8 MB   | #3         |  14% \n",
      "libclang-9.0.1       | 20.8 MB   | #4         |  14% \n",
      "libclang-9.0.1       | 20.8 MB   | #4         |  15% \n",
      "libclang-9.0.1       | 20.8 MB   | #4         |  15% \n",
      "libclang-9.0.1       | 20.8 MB   | #5         |  15% \n",
      "libclang-9.0.1       | 20.8 MB   | #5         |  16% \n",
      "libclang-9.0.1       | 20.8 MB   | #6         |  16% \n",
      "libclang-9.0.1       | 20.8 MB   | #6         |  16% \n",
      "libclang-9.0.1       | 20.8 MB   | #6         |  17% \n",
      "libclang-9.0.1       | 20.8 MB   | #7         |  17% \n",
      "libclang-9.0.1       | 20.8 MB   | #7         |  18% \n",
      "libclang-9.0.1       | 20.8 MB   | #8         |  18% \n",
      "libclang-9.0.1       | 20.8 MB   | #8         |  18% \n",
      "libclang-9.0.1       | 20.8 MB   | #8         |  19% \n",
      "libclang-9.0.1       | 20.8 MB   | #9         |  19% \n",
      "libclang-9.0.1       | 20.8 MB   | #9         |  19% \n",
      "libclang-9.0.1       | 20.8 MB   | #9         |  20% \n",
      "libclang-9.0.1       | 20.8 MB   | ##         |  20% \n",
      "libclang-9.0.1       | 20.8 MB   | ##         |  20% \n",
      "libclang-9.0.1       | 20.8 MB   | ##         |  21% \n",
      "libclang-9.0.1       | 20.8 MB   | ##1        |  21% \n",
      "libclang-9.0.1       | 20.8 MB   | ##1        |  22% \n",
      "libclang-9.0.1       | 20.8 MB   | ##2        |  22% \n",
      "libclang-9.0.1       | 20.8 MB   | ##2        |  22% \n",
      "libclang-9.0.1       | 20.8 MB   | ##2        |  23% \n",
      "libclang-9.0.1       | 20.8 MB   | ##3        |  23% \n",
      "libclang-9.0.1       | 20.8 MB   | ##3        |  24% \n",
      "libclang-9.0.1       | 20.8 MB   | ##3        |  24% \n",
      "libclang-9.0.1       | 20.8 MB   | ##4        |  24% \n",
      "libclang-9.0.1       | 20.8 MB   | ##4        |  25% \n",
      "libclang-9.0.1       | 20.8 MB   | ##5        |  25% \n",
      "libclang-9.0.1       | 20.8 MB   | ##5        |  25% \n",
      "libclang-9.0.1       | 20.8 MB   | ##5        |  26% \n",
      "libclang-9.0.1       | 20.8 MB   | ##6        |  26% \n",
      "libclang-9.0.1       | 20.8 MB   | ##6        |  27% \n",
      "libclang-9.0.1       | 20.8 MB   | ##6        |  27% \n",
      "libclang-9.0.1       | 20.8 MB   | ##7        |  27% \n",
      "libclang-9.0.1       | 20.8 MB   | ##7        |  28% \n",
      "libclang-9.0.1       | 20.8 MB   | ##8        |  28% \n",
      "libclang-9.0.1       | 20.8 MB   | ##8        |  28% \n",
      "libclang-9.0.1       | 20.8 MB   | ##8        |  29% \n",
      "libclang-9.0.1       | 20.8 MB   | ##9        |  29% \n",
      "libclang-9.0.1       | 20.8 MB   | ##9        |  29% \n",
      "libclang-9.0.1       | 20.8 MB   | ###        |  30% \n",
      "libclang-9.0.1       | 20.8 MB   | ###        |  30% \n",
      "libclang-9.0.1       | 20.8 MB   | ###        |  31% \n",
      "libclang-9.0.1       | 20.8 MB   | ###1       |  31% \n",
      "libclang-9.0.1       | 20.8 MB   | ###1       |  32% \n",
      "libclang-9.0.1       | 20.8 MB   | ###2       |  32% \n",
      "libclang-9.0.1       | 20.8 MB   | ###2       |  33% \n",
      "libclang-9.0.1       | 20.8 MB   | ###3       |  33% \n",
      "libclang-9.0.1       | 20.8 MB   | ###3       |  34% \n",
      "libclang-9.0.1       | 20.8 MB   | ###3       |  34% \n",
      "libclang-9.0.1       | 20.8 MB   | ###4       |  35% \n",
      "libclang-9.0.1       | 20.8 MB   | ###5       |  35% \n",
      "libclang-9.0.1       | 20.8 MB   | ###5       |  35% \n",
      "libclang-9.0.1       | 20.8 MB   | ###5       |  36% \n",
      "libclang-9.0.1       | 20.8 MB   | ###6       |  36% \n",
      "libclang-9.0.1       | 20.8 MB   | ###6       |  37% \n",
      "libclang-9.0.1       | 20.8 MB   | ###6       |  37% \n",
      "libclang-9.0.1       | 20.8 MB   | ###7       |  37% \n",
      "libclang-9.0.1       | 20.8 MB   | ###7       |  38% \n",
      "libclang-9.0.1       | 20.8 MB   | ###8       |  38% \n",
      "libclang-9.0.1       | 20.8 MB   | ###8       |  39% \n",
      "libclang-9.0.1       | 20.8 MB   | ###9       |  39% \n",
      "libclang-9.0.1       | 20.8 MB   | ###9       |  40% \n",
      "libclang-9.0.1       | 20.8 MB   | ####       |  40% \n",
      "libclang-9.0.1       | 20.8 MB   | ####       |  41% \n",
      "libclang-9.0.1       | 20.8 MB   | ####1      |  41% \n",
      "libclang-9.0.1       | 20.8 MB   | ####1      |  42% \n",
      "libclang-9.0.1       | 20.8 MB   | ####1      |  42% \n",
      "libclang-9.0.1       | 20.8 MB   | ####2      |  42% \n",
      "libclang-9.0.1       | 20.8 MB   | ####2      |  43% \n",
      "libclang-9.0.1       | 20.8 MB   | ####3      |  44% \n",
      "libclang-9.0.1       | 20.8 MB   | ####4      |  44% \n",
      "libclang-9.0.1       | 20.8 MB   | ####4      |  45% \n",
      "libclang-9.0.1       | 20.8 MB   | ####4      |  45% \n",
      "libclang-9.0.1       | 20.8 MB   | ####5      |  46% \n",
      "libclang-9.0.1       | 20.8 MB   | ####6      |  46% \n",
      "libclang-9.0.1       | 20.8 MB   | ####6      |  47% \n",
      "libclang-9.0.1       | 20.8 MB   | ####7      |  47% \n",
      "libclang-9.0.1       | 20.8 MB   | ####7      |  48% \n",
      "libclang-9.0.1       | 20.8 MB   | ####8      |  48% \n",
      "libclang-9.0.1       | 20.8 MB   | ####8      |  49% \n",
      "libclang-9.0.1       | 20.8 MB   | ####9      |  49% \n",
      "libclang-9.0.1       | 20.8 MB   | ####9      |  50% \n",
      "libclang-9.0.1       | 20.8 MB   | #####      |  50% \n",
      "libclang-9.0.1       | 20.8 MB   | #####      |  51% \n",
      "libclang-9.0.1       | 20.8 MB   | #####1     |  51% \n",
      "libclang-9.0.1       | 20.8 MB   | #####1     |  52% \n",
      "libclang-9.0.1       | 20.8 MB   | #####2     |  52% \n",
      "libclang-9.0.1       | 20.8 MB   | #####2     |  53% \n",
      "libclang-9.0.1       | 20.8 MB   | #####2     |  53% \n",
      "libclang-9.0.1       | 20.8 MB   | #####3     |  53% \n",
      "libclang-9.0.1       | 20.8 MB   | #####4     |  54% \n",
      "libclang-9.0.1       | 20.8 MB   | #####4     |  54% \n",
      "libclang-9.0.1       | 20.8 MB   | #####4     |  55% \n",
      "libclang-9.0.1       | 20.8 MB   | #####5     |  55% \n",
      "libclang-9.0.1       | 20.8 MB   | #####5     |  56% \n",
      "libclang-9.0.1       | 20.8 MB   | #####6     |  56% \n",
      "libclang-9.0.1       | 20.8 MB   | #####7     |  57% \n",
      "libclang-9.0.1       | 20.8 MB   | #####7     |  58% \n",
      "libclang-9.0.1       | 20.8 MB   | #####8     |  59% \n",
      "libclang-9.0.1       | 20.8 MB   | #####9     |  59% \n",
      "libclang-9.0.1       | 20.8 MB   | #####9     |  60% \n",
      "libclang-9.0.1       | 20.8 MB   | ######     |  61% \n",
      "libclang-9.0.1       | 20.8 MB   | ######1    |  61% \n",
      "libclang-9.0.1       | 20.8 MB   | ######1    |  62% \n",
      "libclang-9.0.1       | 20.8 MB   | ######2    |  62% \n",
      "libclang-9.0.1       | 20.8 MB   | ######2    |  63% \n",
      "libclang-9.0.1       | 20.8 MB   | ######3    |  64% \n",
      "libclang-9.0.1       | 20.8 MB   | ######4    |  64% \n",
      "libclang-9.0.1       | 20.8 MB   | ######4    |  65% \n",
      "libclang-9.0.1       | 20.8 MB   | ######5    |  65% \n",
      "libclang-9.0.1       | 20.8 MB   | ######5    |  66% \n",
      "libclang-9.0.1       | 20.8 MB   | ######6    |  66% \n",
      "libclang-9.0.1       | 20.8 MB   | ######6    |  67% \n",
      "libclang-9.0.1       | 20.8 MB   | ######7    |  67% \n",
      "libclang-9.0.1       | 20.8 MB   | ######7    |  68% \n",
      "libclang-9.0.1       | 20.8 MB   | ######8    |  68% \n",
      "libclang-9.0.1       | 20.8 MB   | ######8    |  69% \n",
      "libclang-9.0.1       | 20.8 MB   | ######9    |  69% \n",
      "libclang-9.0.1       | 20.8 MB   | ######9    |  70% \n",
      "libclang-9.0.1       | 20.8 MB   | #######    |  70% \n",
      "libclang-9.0.1       | 20.8 MB   | #######    |  71% \n",
      "libclang-9.0.1       | 20.8 MB   | #######    |  71% \n",
      "libclang-9.0.1       | 20.8 MB   | #######1   |  71% \n",
      "libclang-9.0.1       | 20.8 MB   | #######2   |  72% \n",
      "libclang-9.0.1       | 20.8 MB   | #######2   |  72% \n",
      "libclang-9.0.1       | 20.8 MB   | #######3   |  73% \n",
      "libclang-9.0.1       | 20.8 MB   | #######3   |  74% \n",
      "libclang-9.0.1       | 20.8 MB   | #######4   |  74% \n",
      "libclang-9.0.1       | 20.8 MB   | #######4   |  75% \n",
      "libclang-9.0.1       | 20.8 MB   | #######5   |  75% \n",
      "libclang-9.0.1       | 20.8 MB   | #######5   |  76% \n",
      "libclang-9.0.1       | 20.8 MB   | #######6   |  76% \n",
      "libclang-9.0.1       | 20.8 MB   | #######6   |  77% \n",
      "libclang-9.0.1       | 20.8 MB   | #######7   |  77% \n",
      "libclang-9.0.1       | 20.8 MB   | #######7   |  78% \n",
      "libclang-9.0.1       | 20.8 MB   | #######7   |  78% \n",
      "libclang-9.0.1       | 20.8 MB   | #######8   |  78% \n",
      "libclang-9.0.1       | 20.8 MB   | #######9   |  79% \n",
      "libclang-9.0.1       | 20.8 MB   | #######9   |  80% \n",
      "libclang-9.0.1       | 20.8 MB   | #######9   |  80% \n",
      "libclang-9.0.1       | 20.8 MB   | ########   |  81% \n",
      "libclang-9.0.1       | 20.8 MB   | ########   |  81% \n",
      "libclang-9.0.1       | 20.8 MB   | ########1  |  81% \n",
      "libclang-9.0.1       | 20.8 MB   | ########1  |  82% \n",
      "libclang-9.0.1       | 20.8 MB   | ########2  |  82% \n",
      "libclang-9.0.1       | 20.8 MB   | ########2  |  83% \n",
      "libclang-9.0.1       | 20.8 MB   | ########3  |  83% \n",
      "libclang-9.0.1       | 20.8 MB   | ########3  |  84% \n",
      "libclang-9.0.1       | 20.8 MB   | ########4  |  84% \n",
      "libclang-9.0.1       | 20.8 MB   | ########4  |  85% \n",
      "libclang-9.0.1       | 20.8 MB   | ########5  |  85% \n",
      "libclang-9.0.1       | 20.8 MB   | ########5  |  86% \n",
      "libclang-9.0.1       | 20.8 MB   | ########6  |  86% \n",
      "libclang-9.0.1       | 20.8 MB   | ########6  |  87% \n",
      "libclang-9.0.1       | 20.8 MB   | ########7  |  87% \n",
      "libclang-9.0.1       | 20.8 MB   | ########7  |  87% \n",
      "libclang-9.0.1       | 20.8 MB   | ########7  |  88% \n",
      "libclang-9.0.1       | 20.8 MB   | ########8  |  89% \n",
      "libclang-9.0.1       | 20.8 MB   | ########9  |  89% \n",
      "libclang-9.0.1       | 20.8 MB   | ########9  |  90% \n",
      "libclang-9.0.1       | 20.8 MB   | #########  |  90% \n",
      "libclang-9.0.1       | 20.8 MB   | #########  |  91% \n",
      "libclang-9.0.1       | 20.8 MB   | #########1 |  91% \n",
      "libclang-9.0.1       | 20.8 MB   | #########1 |  92% \n",
      "libclang-9.0.1       | 20.8 MB   | #########2 |  92% \n",
      "libclang-9.0.1       | 20.8 MB   | #########2 |  93% \n",
      "libclang-9.0.1       | 20.8 MB   | #########3 |  93% \n",
      "libclang-9.0.1       | 20.8 MB   | #########3 |  94% \n",
      "libclang-9.0.1       | 20.8 MB   | #########4 |  94% \n",
      "libclang-9.0.1       | 20.8 MB   | #########4 |  95% \n",
      "libclang-9.0.1       | 20.8 MB   | #########5 |  95% \n",
      "libclang-9.0.1       | 20.8 MB   | #########5 |  96% \n",
      "libclang-9.0.1       | 20.8 MB   | #########6 |  96% \n",
      "libclang-9.0.1       | 20.8 MB   | #########6 |  97% \n",
      "libclang-9.0.1       | 20.8 MB   | #########7 |  97% \n",
      "libclang-9.0.1       | 20.8 MB   | #########7 |  98% \n",
      "libclang-9.0.1       | 20.8 MB   | #########8 |  98% \n",
      "libclang-9.0.1       | 20.8 MB   | #########8 |  99% \n",
      "libclang-9.0.1       | 20.8 MB   | #########9 |  99% \n",
      "libclang-9.0.1       | 20.8 MB   | #########9 | 100% \n",
      "libclang-9.0.1       | 20.8 MB   | ########## | 100% \n",
      "\n",
      "cycler-0.10.0        | 9 KB      |            |   0% \n",
      "cycler-0.10.0        | 9 KB      | ########## | 100% \n",
      "\n",
      "icu-64.2             | 14.1 MB   |            |   0% \n",
      "icu-64.2             | 14.1 MB   |            |   0% \n",
      "icu-64.2             | 14.1 MB   |            |   1% \n",
      "icu-64.2             | 14.1 MB   | 1          |   1% \n",
      "icu-64.2             | 14.1 MB   | 1          |   2% \n",
      "icu-64.2             | 14.1 MB   | 2          |   3% \n",
      "icu-64.2             | 14.1 MB   | 3          |   3% \n",
      "icu-64.2             | 14.1 MB   | 3          |   4% \n",
      "icu-64.2             | 14.1 MB   | 4          |   4% \n",
      "icu-64.2             | 14.1 MB   | 5          |   6% \n",
      "icu-64.2             | 14.1 MB   | 6          |   7% \n",
      "icu-64.2             | 14.1 MB   | 7          |   7% \n",
      "icu-64.2             | 14.1 MB   | 8          |   8% \n",
      "icu-64.2             | 14.1 MB   | 8          |   9% \n",
      "icu-64.2             | 14.1 MB   | 9          |   9% \n",
      "icu-64.2             | 14.1 MB   | 9          |  10% \n",
      "icu-64.2             | 14.1 MB   | #          |  10% \n",
      "icu-64.2             | 14.1 MB   | #1         |  11% \n",
      "icu-64.2             | 14.1 MB   | #2         |  12% \n",
      "icu-64.2             | 14.1 MB   | #2         |  13% \n",
      "icu-64.2             | 14.1 MB   | #3         |  13% \n",
      "icu-64.2             | 14.1 MB   | #4         |  14% \n",
      "icu-64.2             | 14.1 MB   | #4         |  15% \n",
      "icu-64.2             | 14.1 MB   | #5         |  15% \n",
      "icu-64.2             | 14.1 MB   | #6         |  16% \n",
      "icu-64.2             | 14.1 MB   | #6         |  17% \n",
      "icu-64.2             | 14.1 MB   | #7         |  18% \n",
      "icu-64.2             | 14.1 MB   | #8         |  18% \n",
      "icu-64.2             | 14.1 MB   | #9         |  19% \n",
      "icu-64.2             | 14.1 MB   | ##         |  20% \n",
      "icu-64.2             | 14.1 MB   | ##1        |  21% \n",
      "icu-64.2             | 14.1 MB   | ##1        |  22% \n",
      "icu-64.2             | 14.1 MB   | ##3        |  23% \n",
      "icu-64.2             | 14.1 MB   | ##4        |  24% \n",
      "icu-64.2             | 14.1 MB   | ##5        |  25% \n",
      "icu-64.2             | 14.1 MB   | ##5        |  26% \n",
      "icu-64.2             | 14.1 MB   | ##6        |  27% \n",
      "icu-64.2             | 14.1 MB   | ##8        |  28% \n",
      "icu-64.2             | 14.1 MB   | ##9        |  29% \n",
      "icu-64.2             | 14.1 MB   | ##9        |  30% \n",
      "icu-64.2             | 14.1 MB   | ###        |  30% \n",
      "icu-64.2             | 14.1 MB   | ###1       |  31% \n",
      "icu-64.2             | 14.1 MB   | ###1       |  32% \n",
      "icu-64.2             | 14.1 MB   | ###2       |  33% \n",
      "icu-64.2             | 14.1 MB   | ###3       |  33% \n",
      "icu-64.2             | 14.1 MB   | ###3       |  34% \n",
      "icu-64.2             | 14.1 MB   | ###4       |  35% \n",
      "icu-64.2             | 14.1 MB   | ###5       |  35% \n",
      "icu-64.2             | 14.1 MB   | ###6       |  36% \n",
      "icu-64.2             | 14.1 MB   | ###6       |  37% \n",
      "icu-64.2             | 14.1 MB   | ###7       |  37% \n",
      "icu-64.2             | 14.1 MB   | ###8       |  38% \n",
      "icu-64.2             | 14.1 MB   | ###8       |  39% \n",
      "icu-64.2             | 14.1 MB   | ###9       |  40% \n",
      "icu-64.2             | 14.1 MB   | ####       |  41% \n",
      "icu-64.2             | 14.1 MB   | ####1      |  42% \n",
      "icu-64.2             | 14.1 MB   | ####2      |  42% \n",
      "icu-64.2             | 14.1 MB   | ####3      |  43% \n",
      "icu-64.2             | 14.1 MB   | ####3      |  44% \n",
      "icu-64.2             | 14.1 MB   | ####4      |  44% \n",
      "icu-64.2             | 14.1 MB   | ####5      |  45% \n",
      "icu-64.2             | 14.1 MB   | ####5      |  46% \n",
      "icu-64.2             | 14.1 MB   | ####6      |  46% \n",
      "icu-64.2             | 14.1 MB   | ####7      |  47% \n",
      "icu-64.2             | 14.1 MB   | ####7      |  48% \n",
      "icu-64.2             | 14.1 MB   | ####8      |  49% \n",
      "icu-64.2             | 14.1 MB   | ####9      |  49% \n",
      "icu-64.2             | 14.1 MB   | ####9      |  50% \n",
      "icu-64.2             | 14.1 MB   | #####      |  51% \n",
      "icu-64.2             | 14.1 MB   | #####1     |  51% \n",
      "icu-64.2             | 14.1 MB   | #####1     |  52% \n",
      "icu-64.2             | 14.1 MB   | #####2     |  53% \n",
      "icu-64.2             | 14.1 MB   | #####3     |  54% \n",
      "icu-64.2             | 14.1 MB   | #####4     |  54% \n",
      "icu-64.2             | 14.1 MB   | #####4     |  55% \n",
      "icu-64.2             | 14.1 MB   | #####5     |  55% \n",
      "icu-64.2             | 14.1 MB   | #####6     |  56% \n",
      "icu-64.2             | 14.1 MB   | #####6     |  57% \n",
      "icu-64.2             | 14.1 MB   | #####7     |  58% \n",
      "icu-64.2             | 14.1 MB   | #####8     |  58% \n",
      "icu-64.2             | 14.1 MB   | #####9     |  59% \n",
      "icu-64.2             | 14.1 MB   | #####9     |  60% \n",
      "icu-64.2             | 14.1 MB   | ######     |  61% \n",
      "icu-64.2             | 14.1 MB   | ######1    |  61% \n",
      "icu-64.2             | 14.1 MB   | ######2    |  62% \n",
      "icu-64.2             | 14.1 MB   | ######2    |  63% \n",
      "icu-64.2             | 14.1 MB   | ######3    |  64% \n",
      "icu-64.2             | 14.1 MB   | ######4    |  64% \n",
      "icu-64.2             | 14.1 MB   | ######4    |  65% \n",
      "icu-64.2             | 14.1 MB   | ######5    |  66% \n",
      "icu-64.2             | 14.1 MB   | ######6    |  66% \n",
      "icu-64.2             | 14.1 MB   | ######7    |  67% \n",
      "icu-64.2             | 14.1 MB   | ######7    |  68% \n",
      "icu-64.2             | 14.1 MB   | ######8    |  68% \n",
      "icu-64.2             | 14.1 MB   | ######9    |  69% \n",
      "icu-64.2             | 14.1 MB   | #######    |  70% \n",
      "icu-64.2             | 14.1 MB   | #######    |  71% \n",
      "icu-64.2             | 14.1 MB   | #######1   |  72% \n",
      "icu-64.2             | 14.1 MB   | #######2   |  72% \n",
      "icu-64.2             | 14.1 MB   | #######2   |  73% \n",
      "icu-64.2             | 14.1 MB   | #######3   |  74% \n",
      "icu-64.2             | 14.1 MB   | #######4   |  75% \n",
      "icu-64.2             | 14.1 MB   | #######6   |  76% \n",
      "icu-64.2             | 14.1 MB   | #######7   |  77% \n",
      "icu-64.2             | 14.1 MB   | #######7   |  78% \n",
      "icu-64.2             | 14.1 MB   | #######8   |  78% \n",
      "icu-64.2             | 14.1 MB   | #######9   |  79% \n",
      "icu-64.2             | 14.1 MB   | ########   |  80% \n",
      "icu-64.2             | 14.1 MB   | ########   |  81% \n",
      "icu-64.2             | 14.1 MB   | ########1  |  82% \n",
      "icu-64.2             | 14.1 MB   | ########2  |  82% \n",
      "icu-64.2             | 14.1 MB   | ########3  |  83% \n",
      "icu-64.2             | 14.1 MB   | ########4  |  84% \n",
      "icu-64.2             | 14.1 MB   | ########4  |  85% \n",
      "icu-64.2             | 14.1 MB   | ########6  |  86% \n",
      "icu-64.2             | 14.1 MB   | ########7  |  87% \n",
      "icu-64.2             | 14.1 MB   | ########8  |  88% \n",
      "icu-64.2             | 14.1 MB   | ########9  |  89% \n",
      "icu-64.2             | 14.1 MB   | #########  |  90% \n",
      "icu-64.2             | 14.1 MB   | #########1 |  91% \n",
      "icu-64.2             | 14.1 MB   | #########1 |  92% \n",
      "icu-64.2             | 14.1 MB   | #########2 |  93% \n",
      "icu-64.2             | 14.1 MB   | #########3 |  94% \n",
      "icu-64.2             | 14.1 MB   | #########4 |  94% \n",
      "icu-64.2             | 14.1 MB   | #########5 |  95% \n",
      "icu-64.2             | 14.1 MB   | #########5 |  96% \n",
      "icu-64.2             | 14.1 MB   | #########6 |  96% \n",
      "icu-64.2             | 14.1 MB   | #########6 |  97% \n",
      "icu-64.2             | 14.1 MB   | #########7 |  97% \n",
      "icu-64.2             | 14.1 MB   | #########7 |  98% \n",
      "icu-64.2             | 14.1 MB   | #########8 |  98% \n",
      "icu-64.2             | 14.1 MB   | #########8 |  99% \n",
      "icu-64.2             | 14.1 MB   | #########9 |  99% \n",
      "icu-64.2             | 14.1 MB   | #########9 | 100% \n",
      "icu-64.2             | 14.1 MB   | ########## | 100% \n",
      "\n",
      "matplotlib-3.2.0     | 6 KB      |            |   0% \n",
      "matplotlib-3.2.0     | 6 KB      | ########## | 100% \n",
      "\n",
      "matplotlib-base-3.2. | 7.1 MB    |            |   0% \n",
      "matplotlib-base-3.2. | 7.1 MB    |            |   0% \n",
      "matplotlib-base-3.2. | 7.1 MB    | 1          |   2% \n",
      "matplotlib-base-3.2. | 7.1 MB    | 3          |   4% \n",
      "matplotlib-base-3.2. | 7.1 MB    | 5          |   5% \n",
      "matplotlib-base-3.2. | 7.1 MB    | 6          |   7% \n",
      "matplotlib-base-3.2. | 7.1 MB    | 8          |   8% \n",
      "matplotlib-base-3.2. | 7.1 MB    | #          |  10% \n",
      "matplotlib-base-3.2. | 7.1 MB    | #2         |  12% \n",
      "matplotlib-base-3.2. | 7.1 MB    | #4         |  14% \n",
      "matplotlib-base-3.2. | 7.1 MB    | #6         |  16% \n",
      "matplotlib-base-3.2. | 7.1 MB    | #8         |  18% \n",
      "matplotlib-base-3.2. | 7.1 MB    | ##         |  20% \n",
      "matplotlib-base-3.2. | 7.1 MB    | ##2        |  23% \n",
      "matplotlib-base-3.2. | 7.1 MB    | ##4        |  25% \n",
      "matplotlib-base-3.2. | 7.1 MB    | ##6        |  27% \n",
      "matplotlib-base-3.2. | 7.1 MB    | ##8        |  29% \n",
      "matplotlib-base-3.2. | 7.1 MB    | ###1       |  31% \n",
      "matplotlib-base-3.2. | 7.1 MB    | ###3       |  33% \n",
      "matplotlib-base-3.2. | 7.1 MB    | ###5       |  35% \n",
      "matplotlib-base-3.2. | 7.1 MB    | ###7       |  38% \n",
      "matplotlib-base-3.2. | 7.1 MB    | ###9       |  40% \n",
      "matplotlib-base-3.2. | 7.1 MB    | ####2      |  42% \n",
      "matplotlib-base-3.2. | 7.1 MB    | ####4      |  44% \n",
      "matplotlib-base-3.2. | 7.1 MB    | ####6      |  46% \n",
      "matplotlib-base-3.2. | 7.1 MB    | ####8      |  48% \n",
      "matplotlib-base-3.2. | 7.1 MB    | #####      |  50% \n",
      "matplotlib-base-3.2. | 7.1 MB    | #####2     |  52% \n",
      "matplotlib-base-3.2. | 7.1 MB    | #####4     |  54% \n",
      "matplotlib-base-3.2. | 7.1 MB    | #####6     |  56% \n",
      "matplotlib-base-3.2. | 7.1 MB    | #####8     |  59% \n",
      "matplotlib-base-3.2. | 7.1 MB    | ######     |  61% \n",
      "matplotlib-base-3.2. | 7.1 MB    | ######2    |  63% \n",
      "matplotlib-base-3.2. | 7.1 MB    | ######5    |  65% \n",
      "matplotlib-base-3.2. | 7.1 MB    | ######7    |  67% \n",
      "matplotlib-base-3.2. | 7.1 MB    | ######9    |  70% \n",
      "matplotlib-base-3.2. | 7.1 MB    | #######1   |  72% \n",
      "matplotlib-base-3.2. | 7.1 MB    | #######3   |  74% \n",
      "matplotlib-base-3.2. | 7.1 MB    | #######5   |  76% \n",
      "matplotlib-base-3.2. | 7.1 MB    | #######7   |  77% \n",
      "matplotlib-base-3.2. | 7.1 MB    | #######9   |  79% \n",
      "matplotlib-base-3.2. | 7.1 MB    | ########1  |  82% \n",
      "matplotlib-base-3.2. | 7.1 MB    | ########3  |  84% \n",
      "matplotlib-base-3.2. | 7.1 MB    | ########5  |  86% \n",
      "matplotlib-base-3.2. | 7.1 MB    | ########7  |  88% \n",
      "matplotlib-base-3.2. | 7.1 MB    | ########9  |  90% \n",
      "matplotlib-base-3.2. | 7.1 MB    | #########1 |  92% \n",
      "matplotlib-base-3.2. | 7.1 MB    | #########3 |  94% \n",
      "matplotlib-base-3.2. | 7.1 MB    | #########5 |  96% \n",
      "matplotlib-base-3.2. | 7.1 MB    | #########7 |  98% \n",
      "matplotlib-base-3.2. | 7.1 MB    | #########9 | 100% \n",
      "matplotlib-base-3.2. | 7.1 MB    | ########## | 100% \n",
      "\n",
      "kiwisolver-1.1.0     | 61 KB     |            |   0% \n",
      "kiwisolver-1.1.0     | 61 KB     | ########## | 100% \n",
      "\n",
      "pyparsing-2.4.6      | 59 KB     |            |   0% \n",
      "pyparsing-2.4.6      | 59 KB     | ########## | 100% \n",
      "Preparing transaction: ...working... done\n",
      "Verifying transaction: ...working... done\n",
      "Executing transaction: ...working... done\n"
     ]
    }
   ],
   "source": [
    "conda install matplotlib"
   ]
  },
  {
   "cell_type": "code",
   "execution_count": 3,
   "metadata": {},
   "outputs": [],
   "source": [
    "%matplotlib inline"
   ]
  },
  {
   "cell_type": "code",
   "execution_count": 4,
   "metadata": {},
   "outputs": [],
   "source": [
    "from __future__ import print_function\n",
    "import torch"
   ]
  },
  {
   "cell_type": "code",
   "execution_count": 5,
   "metadata": {},
   "outputs": [
    {
     "name": "stdout",
     "output_type": "stream",
     "text": [
      "tensor([[0.0000e+00, 0.0000e+00, 0.0000e+00],\n",
      "        [0.0000e+00, 0.0000e+00, 0.0000e+00],\n",
      "        [0.0000e+00, 0.0000e+00, 9.8091e-45],\n",
      "        [0.0000e+00, 1.1210e-44, 0.0000e+00],\n",
      "        [0.0000e+00, 0.0000e+00, 0.0000e+00]])\n"
     ]
    }
   ],
   "source": [
    "x = torch.empty(5,3)\n",
    "print(x)"
   ]
  },
  {
   "cell_type": "code",
   "execution_count": 6,
   "metadata": {},
   "outputs": [
    {
     "name": "stdout",
     "output_type": "stream",
     "text": [
      "tensor([[0.8332, 0.3659, 0.7665],\n",
      "        [0.5664, 0.0553, 0.7334],\n",
      "        [0.1667, 0.0104, 0.3544],\n",
      "        [0.3377, 0.3070, 0.7128],\n",
      "        [0.8199, 0.0194, 0.0698]])\n"
     ]
    }
   ],
   "source": [
    "x = torch.rand(5,3)\n",
    "print(x)"
   ]
  },
  {
   "cell_type": "code",
   "execution_count": 7,
   "metadata": {},
   "outputs": [
    {
     "name": "stdout",
     "output_type": "stream",
     "text": [
      "tensor([[0, 0, 0],\n",
      "        [0, 0, 0],\n",
      "        [0, 0, 0],\n",
      "        [0, 0, 0],\n",
      "        [0, 0, 0]])\n"
     ]
    }
   ],
   "source": [
    "x = torch.zeros(5,3, dtype = torch.long)\n",
    "print(x)"
   ]
  },
  {
   "cell_type": "code",
   "execution_count": 8,
   "metadata": {},
   "outputs": [
    {
     "name": "stdout",
     "output_type": "stream",
     "text": [
      "tensor([5.5000, 3.0000])\n"
     ]
    }
   ],
   "source": [
    "x = torch.tensor([5.5,3])\n",
    "print(x)"
   ]
  },
  {
   "cell_type": "code",
   "execution_count": 9,
   "metadata": {},
   "outputs": [
    {
     "name": "stdout",
     "output_type": "stream",
     "text": [
      "tensor([[1., 1., 1.],\n",
      "        [1., 1., 1.],\n",
      "        [1., 1., 1.],\n",
      "        [1., 1., 1.],\n",
      "        [1., 1., 1.]], dtype=torch.float64)\n",
      "tensor([[-1.7346, -1.7844,  0.0267],\n",
      "        [ 1.2090, -0.4153, -1.4118],\n",
      "        [-0.9004, -0.2186,  0.7920],\n",
      "        [ 1.8555, -1.0867, -0.4301],\n",
      "        [ 0.5948, -0.2270,  0.6176]])\n"
     ]
    }
   ],
   "source": [
    "x = x.new_ones(5,3,dtype = torch.double)\n",
    "print(x)\n",
    "\n",
    "x = torch.randn_like(x,dtype = torch.float)\n",
    "print(x)"
   ]
  },
  {
   "cell_type": "code",
   "execution_count": 10,
   "metadata": {},
   "outputs": [
    {
     "name": "stdout",
     "output_type": "stream",
     "text": [
      "torch.Size([5, 3])\n"
     ]
    }
   ],
   "source": [
    "print(x.size())"
   ]
  },
  {
   "cell_type": "code",
   "execution_count": 11,
   "metadata": {},
   "outputs": [],
   "source": [
    "y = torch.rand(5,3)"
   ]
  },
  {
   "cell_type": "code",
   "execution_count": 12,
   "metadata": {},
   "outputs": [
    {
     "name": "stdout",
     "output_type": "stream",
     "text": [
      "tensor([[-1.5877, -0.9860,  0.1873],\n",
      "        [ 1.5040,  0.2424, -0.6988],\n",
      "        [-0.4606,  0.4649,  0.8110],\n",
      "        [ 2.0692, -0.7205,  0.1629],\n",
      "        [ 0.9872, -0.2093,  1.3620]])\n",
      "tensor([[-1.5877, -0.9860,  0.1873],\n",
      "        [ 1.5040,  0.2424, -0.6988],\n",
      "        [-0.4606,  0.4649,  0.8110],\n",
      "        [ 2.0692, -0.7205,  0.1629],\n",
      "        [ 0.9872, -0.2093,  1.3620]])\n"
     ]
    }
   ],
   "source": [
    "print(x+y)\n",
    "print(torch.add(x,y))"
   ]
  },
  {
   "cell_type": "code",
   "execution_count": 13,
   "metadata": {},
   "outputs": [
    {
     "name": "stdout",
     "output_type": "stream",
     "text": [
      "tensor([[-1.5877, -0.9860,  0.1873],\n",
      "        [ 1.5040,  0.2424, -0.6988],\n",
      "        [-0.4606,  0.4649,  0.8110],\n",
      "        [ 2.0692, -0.7205,  0.1629],\n",
      "        [ 0.9872, -0.2093,  1.3620]])\n"
     ]
    }
   ],
   "source": [
    "result = torch.empty(5,3)\n",
    "torch.add(x,y,out = result)\n",
    "print(result)"
   ]
  },
  {
   "cell_type": "code",
   "execution_count": 14,
   "metadata": {},
   "outputs": [
    {
     "name": "stdout",
     "output_type": "stream",
     "text": [
      "tensor([[-1.5877, -0.9860,  0.1873],\n",
      "        [ 1.5040,  0.2424, -0.6988],\n",
      "        [-0.4606,  0.4649,  0.8110],\n",
      "        [ 2.0692, -0.7205,  0.1629],\n",
      "        [ 0.9872, -0.2093,  1.3620]])\n"
     ]
    }
   ],
   "source": [
    "y.add_(x)\n",
    "print(y)"
   ]
  },
  {
   "cell_type": "code",
   "execution_count": 15,
   "metadata": {},
   "outputs": [
    {
     "name": "stdout",
     "output_type": "stream",
     "text": [
      "tensor([-1.7844, -0.4153, -0.2186, -1.0867, -0.2270])\n"
     ]
    }
   ],
   "source": [
    "print(x[:,1])"
   ]
  },
  {
   "cell_type": "code",
   "execution_count": 17,
   "metadata": {},
   "outputs": [
    {
     "name": "stdout",
     "output_type": "stream",
     "text": [
      "torch.Size([4, 4]) torch.Size([16]) torch.Size([2, 8])\n"
     ]
    }
   ],
   "source": [
    "x = torch.randn(4,4)\n",
    "y = x.view(16)\n",
    "z = x.view(-1,8)\n",
    "print(x.size(),y.size(),z.size())"
   ]
  },
  {
   "cell_type": "code",
   "execution_count": 18,
   "metadata": {},
   "outputs": [
    {
     "name": "stdout",
     "output_type": "stream",
     "text": [
      "tensor([-0.5727])\n",
      "-0.5727027058601379\n"
     ]
    }
   ],
   "source": [
    "x = torch.randn(1)\n",
    "print(x)\n",
    "print(x.item())"
   ]
  },
  {
   "cell_type": "code",
   "execution_count": 19,
   "metadata": {},
   "outputs": [
    {
     "name": "stdout",
     "output_type": "stream",
     "text": [
      "tensor([1., 1., 1., 1., 1.])\n"
     ]
    }
   ],
   "source": [
    "a = torch.ones(5)\n",
    "print(a)"
   ]
  },
  {
   "cell_type": "code",
   "execution_count": 20,
   "metadata": {},
   "outputs": [
    {
     "name": "stdout",
     "output_type": "stream",
     "text": [
      "[1. 1. 1. 1. 1.]\n"
     ]
    }
   ],
   "source": [
    "b = a.numpy()\n",
    "print(b)"
   ]
  },
  {
   "cell_type": "code",
   "execution_count": 21,
   "metadata": {},
   "outputs": [
    {
     "name": "stdout",
     "output_type": "stream",
     "text": [
      "tensor([2., 2., 2., 2., 2.])\n",
      "[2. 2. 2. 2. 2.]\n"
     ]
    }
   ],
   "source": [
    "a.add_(1)\n",
    "print(a)\n",
    "print(b)"
   ]
  },
  {
   "cell_type": "code",
   "execution_count": 22,
   "metadata": {},
   "outputs": [
    {
     "name": "stdout",
     "output_type": "stream",
     "text": [
      "[2. 2. 2. 2. 2.]\n",
      "tensor([2., 2., 2., 2., 2.], dtype=torch.float64)\n"
     ]
    }
   ],
   "source": [
    "import numpy as np\n",
    "a = np.ones(5)\n",
    "b = torch.from_numpy(a)\n",
    "np.add(a,b,out=a)\n",
    "print(a)\n",
    "print(b)"
   ]
  },
  {
   "cell_type": "code",
   "execution_count": 23,
   "metadata": {},
   "outputs": [
    {
     "name": "stdout",
     "output_type": "stream",
     "text": [
      "tensor([0.4273], device='cuda:0')\n",
      "tensor([0.4273], device='cuda:0') tensor([0.4273], dtype=torch.float64)\n"
     ]
    }
   ],
   "source": [
    "if torch.cuda.is_available():\n",
    "    device = torch.device(\"cuda\")\n",
    "    y = torch.ones_like(x,device = device)\n",
    "    x = x.to(device)\n",
    "    z = x + y\n",
    "    print(z)\n",
    "    print(z,z.to(\"cpu\",torch.double))"
   ]
  },
  {
   "cell_type": "code",
   "execution_count": null,
   "metadata": {},
   "outputs": [],
   "source": []
  }
 ],
 "metadata": {
  "kernelspec": {
   "display_name": "Python 3",
   "language": "python",
   "name": "python3"
  },
  "language_info": {
   "codemirror_mode": {
    "name": "ipython",
    "version": 3
   },
   "file_extension": ".py",
   "mimetype": "text/x-python",
   "name": "python",
   "nbconvert_exporter": "python",
   "pygments_lexer": "ipython3",
   "version": "3.7.6"
  }
 },
 "nbformat": 4,
 "nbformat_minor": 4
}
